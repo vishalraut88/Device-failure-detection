{
 "cells": [
  {
   "cell_type": "code",
   "execution_count": 1,
   "metadata": {
    "scrolled": true
   },
   "outputs": [],
   "source": [
    "import numpy as np\n",
    "import pandas as pd\n",
    "import seaborn as sns\n",
    "import os\n",
    "from sklearn.model_selection import train_test_split\n",
    "from sklearn.metrics import f1_score,precision_score,recall_score,roc_auc_score,precision_recall_curve,accuracy_score,classification_report,confusion_matrix\n",
    "from sklearn.svm import SVC\n",
    "from sklearn.preprocessing import MinMaxScaler\n",
    "from keras.models import Sequential\n",
    "from keras.layers import Dense,Dropout\n",
    "import keras\n",
    "from sklearn.ensemble import RandomForestClassifier\n",
    "from sklearn.model_selection import cross_val_score\n",
    "import datetime\n",
    "import calendar\n",
    "from scipy.stats import chi2_contingency\n"
   ]
  },
  {
   "cell_type": "code",
   "execution_count": 2,
   "metadata": {},
   "outputs": [],
   "source": [
    "path = os.getcwd()\n",
    "device_data = pd.read_csv(path+\"\\\\Data\\\\device_failure.csv\",encoding='ISO-8859-1')\n",
    "# device_data.describe()\n",
    "# device_data.isnull().sum()\n",
    "\n",
    "device_data[\"date\"] = pd.to_datetime(device_data[\"date\"])\n",
    "device_data[\"day\"] = device_data[\"date\"].apply(lambda x:x.day)\n",
    "device_data[\"month\"] = device_data[\"date\"].apply(lambda x:x.month)\n",
    "device_data[\"day_of_week\"]=device_data[\"date\"].apply(lambda x: calendar.day_name[x.weekday()])"
   ]
  },
  {
   "cell_type": "markdown",
   "metadata": {},
   "source": [
    "Below plot tells you the data is highly imbalance."
   ]
  },
  {
   "cell_type": "code",
   "execution_count": 3,
   "metadata": {
    "scrolled": true
   },
   "outputs": [
    {
     "name": "stderr",
     "output_type": "stream",
     "text": [
      "C:\\Users\\vishalra\\Anaconda3\\lib\\site-packages\\seaborn\\_decorators.py:36: FutureWarning: Pass the following variable as a keyword arg: x. From version 0.12, the only valid positional argument will be `data`, and passing other arguments without an explicit keyword will result in an error or misinterpretation.\n",
      "  warnings.warn(\n"
     ]
    },
    {
     "data": {
      "text/plain": [
       "<AxesSubplot:xlabel='failure', ylabel='count'>"
      ]
     },
     "execution_count": 3,
     "metadata": {},
     "output_type": "execute_result"
    },
    {
     "data": {
      "image/png": "[encoded data removed]",
      "text/plain": [
       "<Figure size 432x288 with 1 Axes>"
      ]
     },
     "metadata": {
      "needs_background": "light"
     },
     "output_type": "display_data"
    }
   ],
   "source": [
    "sns.countplot(device_data[\"failure\"])"
   ]
  },
  {
   "cell_type": "code",
   "execution_count": 4,
   "metadata": {},
   "outputs": [
    {
     "name": "stdout",
     "output_type": "stream",
     "text": [
      "124494\n",
      "106\n"
     ]
    }
   ],
   "source": [
    "print(device_data[\"failure\"].count())\n",
    "print(device_data[device_data[\"failure\"]==1][\"failure\"].count())"
   ]
  },
  {
   "cell_type": "code",
   "execution_count": 5,
   "metadata": {},
   "outputs": [],
   "source": [
    "def chi_sqr_p_value(df,col1,col2):\n",
    "    dataset_table = pd.crosstab(device_data[col1],device_data[col2])\n",
    "    observed_values = dataset_table.values\n",
    "    p_val = chi2_contingency(dataset_table)[1]\n",
    "    return p_val"
   ]
  },
  {
   "cell_type": "markdown",
   "metadata": {},
   "source": [
    "##### Exploratory analysis  of categorical variables\n",
    "Checking the relationship between respose variable \"feature\" and\n",
    "other categorical varibles like day_of_week ,month and day of month"
   ]
  },
  {
   "cell_type": "code",
   "execution_count": 7,
   "metadata": {},
   "outputs": [
    {
     "name": "stdout",
     "output_type": "stream",
     "text": [
      "0.0003450624767265159\n",
      "0.0009510068724008692\n",
      "0.0006876251055513708\n"
     ]
    }
   ],
   "source": [
    "print(chi_sqr_p_value(device_data,\"failure\",\"day_of_week\"))\n",
    "print(chi_sqr_p_value(device_data,\"failure\",\"month\"))\n",
    "print(chi_sqr_p_value(device_data,\"failure\",\"day\"))"
   ]
  },
  {
   "cell_type": "markdown",
   "metadata": {},
   "source": [
    "###### Chi square states \n",
    "Null hypothesis - two categorical variables are independent in the given population\n",
    "\n",
    "Alternate hypothesis - Two categorical variables are not dependent by chance.There is a association. \n",
    "\n",
    "\n",
    "Since the p-value of all the above variables is less than 0.05, we fail to reject Null hypothesis."
   ]
  },
  {
   "cell_type": "code",
   "execution_count": 10,
   "metadata": {},
   "outputs": [],
   "source": [
    "device_data.drop([\"month\",\"day_of_week\",\"day\"],axis=1,inplace=True)"
   ]
  },
  {
   "cell_type": "code",
   "execution_count": 11,
   "metadata": {},
   "outputs": [],
   "source": [
    "# import matplotlib.pyplot as plt\n",
    "# plt.figure(figsize=(10, 10))\n",
    "# #Maintenance_bp=pd.DataFrame(Maintenance_bp,index=[0, 1, 2, 3,4,5,6,7,8,9])\n",
    "# device_data_corr=device_data.corr()\n",
    "# sns.heatmap(device_data_corr, annot=True)\n",
    "\n",
    "# sns.pairplot(device_data, hue='failure', palette='husl')"
   ]
  },
  {
   "cell_type": "markdown",
   "metadata": {},
   "source": [
    "##### Sampling the data"
   ]
  },
  {
   "cell_type": "code",
   "execution_count": 12,
   "metadata": {},
   "outputs": [],
   "source": [
    "scalar = MinMaxScaler()\n",
    "obj_scaler = scalar.fit(device_data.iloc[:,3:])\n",
    "# device_data_scaled = pd.DataFrame(obj)"
   ]
  },
  {
   "cell_type": "code",
   "execution_count": 13,
   "metadata": {},
   "outputs": [],
   "source": [
    "device_data_features = device_data.iloc[:,2:]\n",
    "labels = device_data.iloc[:,2:3]\n",
    "X_train_org,X_Unseen_features,y_train_org,y_Unseen_labels = train_test_split(device_data_features,labels,test_size =0.2,random_state=42)\n",
    "X_Unseen_features.drop([\"failure\"],axis=1,inplace=True)\n",
    "\n",
    "X_train = X_train_org.copy(deep=True)\n",
    "y_train = y_train_org.copy(deep=True)\n",
    "X_train.drop([\"failure\"],axis=1,inplace=True)"
   ]
  },
  {
   "cell_type": "markdown",
   "metadata": {},
   "source": [
    "#### Train base model without scaling"
   ]
  },
  {
   "cell_type": "code",
   "execution_count": 14,
   "metadata": {},
   "outputs": [],
   "source": [
    "def scale_data(data):\n",
    "    scaled_data = pd.DataFrame(obj_scaler.transform(data))\n",
    "    return scaled_data\n",
    "\n",
    "\n",
    "def NN_model(X_train,y_train,X_test,y_test,eps,metric):\n",
    "    model=Sequential()\n",
    "    model.add(Dense(9,input_dim=9,activation=\"relu\"))\n",
    "    model.add(Dropout(0.2))\n",
    "    model.add(Dense(15,activation=\"relu\"))\n",
    "    model.add(Dense(1,activation=\"sigmoid\"))\n",
    "    model.compile(loss=\"binary_crossentropy\",optimizer=\"adam\",metrics=[metric])\n",
    "\n",
    "    model.fit(X_train,y_train,epochs=eps)\n",
    "    preds=model.predict(X_test)\n",
    "    print(preds)\n",
    "#     preds=np.round(preds)\n",
    "#     print(classification_report(y_test,preds))\n",
    "    return model\n",
    "\n",
    "    "
   ]
  },
  {
   "cell_type": "code",
   "execution_count": 32,
   "metadata": {},
   "outputs": [],
   "source": [
    "def argmax_class(data):\n",
    "    return np.argmax(data),data[np.argmax(data)]\n",
    "\n",
    "def train_model(features_train,labels_train,features_val,labels_val):\n",
    "    rf =  RandomForestClassifier(n_estimators=100,\n",
    "                                class_weight='balanced')\n",
    "    rf.fit(X_sub_train,y_sub_train)\n",
    "    preds_on_val = rf.predict_proba(features_val)\n",
    "    return preds_on_val,rf\n",
    "\n",
    "def post_process_output(result,threshold):\n",
    "    df_output_org = pd.DataFrame(result,columns=[\"pass\",\"failure\"])#.apply(argmax_class)\n",
    "    df_output = df_output_org.T.apply(argmax_class).T\n",
    "    df_output = df_output.rename(columns={\"pass\":\"status\",\"failure\":\"proba\"})\n",
    "    df_output[\"status\"]=np.where(df_output[\"proba\"]<threshold,0,1)\n",
    "    return df_output[\"status\"],df_output_org\n",
    "\n",
    "\n",
    "def cross_validation_output(features_train,labels_train):\n",
    "    model =  RandomForestClassifier(n_estimators=100,\n",
    "                                class_weight='balanced')\n",
    "    cv_results  = cross_val_score(model,features_train,labels_train\n",
    "                ,scoring=\"f1\"\n",
    "                ,cv=10\n",
    "               )\n",
    "    \n",
    "    model.fit(features_train,labels_train) \n",
    "    return cv_results,model\n",
    "\n",
    "\n",
    "def model_output_unseen_data(model,X_unseen,y_unseen,threshold):\n",
    "    pred_on_test = model.predict_proba(X_unseen)\n",
    "    pred_on_test,df_output_org = post_process_output(pred_on_test,threshold)\n",
    "    print(\"F1 score on unseen data is %0.2f \\n\\n\" % (f1_score(y_unseen,pred_on_test)))\n",
    "    print(classification_report(y_unseen,pred_on_test))\n",
    "    print(confusion_matrix(y_unseen,pred_on_test))\n",
    "    \n",
    "    return\n",
    "    \n"
   ]
  },
  {
   "cell_type": "markdown",
   "metadata": {},
   "source": [
    "###### 10 fold cross validation using f1 as scoring\n",
    "        Algo - Randomforestclassifier\n",
    "        parameter : n_estimators = 100, class_weights=\"balance\""
   ]
  },
  {
   "cell_type": "code",
   "execution_count": 17,
   "metadata": {
    "scrolled": true
   },
   "outputs": [
    {
     "name": "stdout",
     "output_type": "stream",
     "text": [
      "Mean f1 score of 0.00 \n"
     ]
    }
   ],
   "source": [
    "result,rf_model = cross_validation_output(X_train,y_train[\"failure\"].values)\n",
    "print(\"Mean f1 score of %0.2f \" % (result.mean()))"
   ]
  },
  {
   "cell_type": "code",
   "execution_count": 18,
   "metadata": {},
   "outputs": [
    {
     "name": "stdout",
     "output_type": "stream",
     "text": [
      "F1 score on unseen data is 0.00 \n",
      "\n",
      "\n",
      "              precision    recall  f1-score   support\n",
      "\n",
      "           0       0.94      0.00      0.00     24881\n",
      "           1       0.00      0.94      0.00        18\n",
      "\n",
      "    accuracy                           0.00     24899\n",
      "   macro avg       0.47      0.47      0.00     24899\n",
      "weighted avg       0.94      0.00      0.00     24899\n",
      "\n",
      "[[   15 24866]\n",
      " [    1    17]]\n"
     ]
    },
    {
     "data": {
      "text/plain": [
       "0"
      ]
     },
     "execution_count": 18,
     "metadata": {},
     "output_type": "execute_result"
    }
   ],
   "source": [
    "model_output_unseen_data(rf_model,X_Unseen_features,y_Unseen_labels[\"failure\"].values,0.83)"
   ]
  },
  {
   "cell_type": "code",
   "execution_count": 19,
   "metadata": {
    "scrolled": false
   },
   "outputs": [],
   "source": [
    "# modl = NN_model(X_sub_train,y_sub_train,X_val,y_val,10,keras.metrics.Recall())"
   ]
  },
  {
   "cell_type": "markdown",
   "metadata": {},
   "source": [
    "### Undersampling\n",
    "\n",
    "##### Without scaling"
   ]
  },
  {
   "cell_type": "code",
   "execution_count": 20,
   "metadata": {},
   "outputs": [],
   "source": [
    "df_failure=X_train_org[X_train_org[\"failure\"]==1]\n",
    "df_pass=X_train_org[X_train_org[\"failure\"]==0]\n",
    "X_under_sample = df_pass.sample(n=df_failure.shape[0])"
   ]
  },
  {
   "cell_type": "code",
   "execution_count": 21,
   "metadata": {
    "scrolled": true
   },
   "outputs": [],
   "source": [
    "new_train_data = pd.concat([X_under_sample,df_failure],axis=0)\n",
    "X_train=new_train_data.drop([\"failure\"],axis=1)\n",
    "y_train=new_train_data[\"failure\"]"
   ]
  },
  {
   "cell_type": "code",
   "execution_count": 23,
   "metadata": {},
   "outputs": [
    {
     "name": "stdout",
     "output_type": "stream",
     "text": [
      "Mean f1 score of 0.79\n"
     ]
    }
   ],
   "source": [
    "result,rf_model = cross_validation_output(X_train,y_train.values)\n",
    "print(\"Mean f1 score of %0.2f\" % (result.mean()))"
   ]
  },
  {
   "cell_type": "code",
   "execution_count": 25,
   "metadata": {},
   "outputs": [
    {
     "name": "stdout",
     "output_type": "stream",
     "text": [
      "F1 score on unseen data is 0.00 \n",
      "\n",
      "\n",
      "              precision    recall  f1-score   support\n",
      "\n",
      "           0       1.00      0.44      0.61     24881\n",
      "           1       0.00      0.67      0.00        18\n",
      "\n",
      "    accuracy                           0.44     24899\n",
      "   macro avg       0.50      0.55      0.30     24899\n",
      "weighted avg       1.00      0.44      0.61     24899\n",
      "\n",
      "[[10837 14044]\n",
      " [    6    12]]\n"
     ]
    },
    {
     "data": {
      "text/plain": [
       "0"
      ]
     },
     "execution_count": 25,
     "metadata": {},
     "output_type": "execute_result"
    }
   ],
   "source": [
    "model_output_unseen_data(rf_model,X_Unseen_features,y_Unseen_labels[\"failure\"].values,0.85)"
   ]
  },
  {
   "cell_type": "code",
   "execution_count": 34,
   "metadata": {
    "scrolled": true
   },
   "outputs": [],
   "source": [
    "# trianed_model = NN_model(X_sub_train,y_sub_train,X_val,y_val,100,keras.metrics.Recall())\n",
    "# rf =  RandomForestClassifier()\n",
    "# rf.fit(X_sub_train,y_sub_train)\n",
    "# pred_on_test = rf.predict_proba(X_val)\n",
    "# pred_on_test = np.round(pred_on_test)\n",
    "\n",
    "# print(classification_report(y_val,df_output[\"status\"]))\n",
    "# print(confusion_matrix(y_val,df_output[\"status\"]))\n",
    "\n",
    "# pred_on_test = rf_model.predict_proba(X_test)\n",
    "# pred_on_test,df_output_org = post_process_output(pred_on_test,0.95)\n",
    "# print(classification_report(y_test,pred_on_test))\n",
    "# print(confusion_matrix(y_test,pred_on_test))"
   ]
  },
  {
   "cell_type": "markdown",
   "metadata": {},
   "source": [
    "Above,trained and tested neural networks but not good enough result"
   ]
  },
  {
   "cell_type": "markdown",
   "metadata": {},
   "source": [
    "### Undersampling\n",
    "\n",
    "##### With scaling"
   ]
  },
  {
   "cell_type": "code",
   "execution_count": 29,
   "metadata": {},
   "outputs": [],
   "source": [
    "X_train=scale_data(X_train)"
   ]
  },
  {
   "cell_type": "code",
   "execution_count": 30,
   "metadata": {},
   "outputs": [
    {
     "name": "stdout",
     "output_type": "stream",
     "text": [
      "Mean f1 score of 0.79\n"
     ]
    }
   ],
   "source": [
    "result,rf_model = cross_validation_output(X_train,y_train.values)\n",
    "print(\"Mean f1 score of %0.2f\" % (result.mean()))"
   ]
  },
  {
   "cell_type": "code",
   "execution_count": 33,
   "metadata": {},
   "outputs": [
    {
     "name": "stderr",
     "output_type": "stream",
     "text": [
      "C:\\Users\\vishalra\\Anaconda3\\lib\\site-packages\\sklearn\\base.py:443: UserWarning: X has feature names, but RandomForestClassifier was fitted without feature names\n",
      "  warnings.warn(\n"
     ]
    },
    {
     "name": "stdout",
     "output_type": "stream",
     "text": [
      "F1 score on unseen data is 0.01 \n",
      "\n",
      "\n",
      "              precision    recall  f1-score   support\n",
      "\n",
      "           0       1.00      0.89      0.94     24881\n",
      "           1       0.00      0.72      0.01        18\n",
      "\n",
      "    accuracy                           0.89     24899\n",
      "   macro avg       0.50      0.81      0.48     24899\n",
      "weighted avg       1.00      0.89      0.94     24899\n",
      "\n",
      "[[22258  2623]\n",
      " [    5    13]]\n"
     ]
    }
   ],
   "source": [
    "model_output_unseen_data(rf_model,X_Unseen_features,y_Unseen_labels[\"failure\"].values,0.80)"
   ]
  },
  {
   "cell_type": "code",
   "execution_count": null,
   "metadata": {},
   "outputs": [],
   "source": [
    "# X_sub_train = scale_data(X_sub_train)\n",
    "# X_val = scale_data(X_val)\n",
    "# trianed_model = NN_model(X_sub_train,y_sub_train,X_val,y_val,100,keras.metrics.Recall())\n",
    "# pred_on_test = trianed_model.predict(X_test)\n",
    "# # pred_on_test = np.round(pred_on_test)\n",
    "# print(classification_report(y_test,pred_on_test))\n",
    "# print(confusion_matrix(y_test,pred_on_test))"
   ]
  },
  {
   "cell_type": "code",
   "execution_count": null,
   "metadata": {
    "scrolled": true
   },
   "outputs": [],
   "source": [
    "# pred_on_val,rf_model = train_model(X_sub_train,y_sub_train,X_val,y_val)\n",
    "# pred_on_val,df_output_org = post_process_output(pred_on_val,0.83)\n",
    "# print(classification_report(y_val,pred_on_val))\n",
    "# print(confusion_matrix(y_val,pred_on_val))"
   ]
  },
  {
   "cell_type": "code",
   "execution_count": null,
   "metadata": {},
   "outputs": [],
   "source": [
    "# pred_on_test = rf_model.predict_proba(X_test)\n",
    "# pred_on_test,df_output_org = post_process_output(pred_on_test,0.81)\n",
    "# print(classification_report(y_test,pred_on_test))\n",
    "# tn, fp, fn, tp = confusion_matrix(y_test,pred_on_test).ravel()\n",
    "# # print(tn, fp, fn, tp)\n",
    "# print(confusion_matrix(y_test,pred_on_test))"
   ]
  },
  {
   "cell_type": "markdown",
   "metadata": {},
   "source": [
    "### Oversampling \n",
    "##### Without scaling"
   ]
  },
  {
   "cell_type": "code",
   "execution_count": null,
   "metadata": {},
   "outputs": [],
   "source": [
    "df_failure_oversample=df_failure.sample(df_pass.shape[0],replace=True)"
   ]
  },
  {
   "cell_type": "code",
   "execution_count": null,
   "metadata": {},
   "outputs": [],
   "source": [
    "new_train_data = pd.concat([df_failure_oversample,df_pass],axis=0)\n",
    "X_train=new_train_data.drop([\"failure\"],axis=1)\n",
    "y_train=new_train_data[\"failure\"]\n"
   ]
  },
  {
   "cell_type": "code",
   "execution_count": null,
   "metadata": {},
   "outputs": [],
   "source": [
    "result,rf_model = cross_validation_output(X_train,y_train.values)\n",
    "print(\"Mean f1 score of %0.2f\" % (result.mean()))"
   ]
  },
  {
   "cell_type": "code",
   "execution_count": null,
   "metadata": {},
   "outputs": [],
   "source": [
    "model_output_unseen_data(rf_model,X_Unseen_features,y_Unseen_labels[\"failure\"].values,0.8)"
   ]
  },
  {
   "cell_type": "code",
   "execution_count": null,
   "metadata": {
    "scrolled": true
   },
   "outputs": [],
   "source": [
    "# X_sub_train,X_val,y_sub_train,y_val = train_test_split(new_train_data,new_train_data[\"failure\"],test_size=0.2,stratify=new_train_data[\"failure\"])\n",
    "# X_sub_train.drop([\"failure\"],axis=1,inplace=True)\n",
    "# X_val.drop([\"failure\"],axis=1,inplace=True)\n",
    "# trianed_model = NN_model(X_sub_train,y_sub_train,X_val,y_val,100,keras.metrics.Recall())\n",
    "# pred_on_test = trianed_model.predict(X_test)\n",
    "# pred_on_test = np.round(pred_on_test)\n",
    "# print(classification_report(y_test,pred_on_test))\n",
    "# print(confusion_matrix(y_test,pred_on_test))\n"
   ]
  },
  {
   "cell_type": "code",
   "execution_count": null,
   "metadata": {},
   "outputs": [],
   "source": [
    "# pred_on_val,rf_model = train_model(X_sub_train,y_sub_train,X_val,y_val)\n",
    "# pred_on_val,df_output_org = post_process_output(pred_on_val,0.83)\n",
    "# print(classification_report(y_val,pred_on_val))\n",
    "# print(confusion_matrix(y_val,pred_on_val))"
   ]
  },
  {
   "cell_type": "code",
   "execution_count": null,
   "metadata": {},
   "outputs": [],
   "source": [
    "# pred_on_test = rf_model.predict_proba(X_test)\n",
    "# pred_on_test,df_output_org = post_process_output(pred_on_test,0.83)\n",
    "# print(classification_report(y_test,pred_on_test))\n",
    "# tn, fp, fn, tp = confusion_matrix(y_test,pred_on_test).ravel()\n",
    "# print(tn, fp, fn, tp)\n",
    "# print(confusion_matrix(y_test,pred_on_test))"
   ]
  },
  {
   "cell_type": "markdown",
   "metadata": {},
   "source": [
    "### Oversampling \n",
    "##### With scaling"
   ]
  },
  {
   "cell_type": "code",
   "execution_count": null,
   "metadata": {},
   "outputs": [],
   "source": [
    "X_train=scale_data(X_train)"
   ]
  },
  {
   "cell_type": "code",
   "execution_count": null,
   "metadata": {},
   "outputs": [],
   "source": [
    "result,rf_model = cross_validation_output(X_train,y_train.values)\n",
    "print(\"Mean f1 score of %0.2f\" % (result.mean()))"
   ]
  },
  {
   "cell_type": "code",
   "execution_count": null,
   "metadata": {},
   "outputs": [],
   "source": [
    "model_output_unseen_data(rf_model,X_Unseen_features,y_Unseen_labels[\"failure\"].values,0.8)"
   ]
  },
  {
   "cell_type": "code",
   "execution_count": null,
   "metadata": {},
   "outputs": [],
   "source": [
    "# X_sub_train = scale_data(X_sub_train)\n",
    "# X_val = scale_data(X_val)"
   ]
  },
  {
   "cell_type": "code",
   "execution_count": null,
   "metadata": {},
   "outputs": [],
   "source": [
    "# pred_on_val,rf_model = train_model(X_sub_train,y_sub_train,X_val,y_val)\n",
    "# pred_on_val,df_output_org = post_process_output(pred_on_val)\n",
    "# print(classification_report(y_val,pred_on_val))\n",
    "# print(confusion_matrix(y_val,pred_on_val))"
   ]
  },
  {
   "cell_type": "code",
   "execution_count": null,
   "metadata": {
    "scrolled": true
   },
   "outputs": [],
   "source": [
    "# pred_on_test = rf_model.predict_proba(X_test)\n",
    "# pred_on_test,df_output_org = post_process_output(pred_on_test)\n",
    "# print(classification_report(y_test,pred_on_test))\n",
    "# tn, fp, fn, tp = confusion_matrix(y_test,pred_on_test).ravel()\n",
    "# print(tn, fp, fn, tp)\n",
    "# print(confusion_matrix(y_test,pred_on_test))"
   ]
  },
  {
   "cell_type": "code",
   "execution_count": null,
   "metadata": {},
   "outputs": [],
   "source": []
  },
  {
   "cell_type": "markdown",
   "metadata": {},
   "source": [
    "### SMOTE\n"
   ]
  },
  {
   "cell_type": "code",
   "execution_count": null,
   "metadata": {},
   "outputs": [],
   "source": [
    "from imblearn.over_sampling import SMOTE"
   ]
  },
  {
   "cell_type": "code",
   "execution_count": null,
   "metadata": {},
   "outputs": [],
   "source": [
    "sm = SMOTE(sampling_strategy=\"minority\")\n",
    "# X_train_sm,y_train_sm  = .fit_sample(X_train.iloc[:,1:],X_train.iloc[:,0:1])\n",
    "X_train_sm,y_train_sm = sm.fit_resample(X_train,y_train)"
   ]
  },
  {
   "cell_type": "code",
   "execution_count": null,
   "metadata": {},
   "outputs": [],
   "source": [
    "result,rf_model = cross_validation_output(X_train_sm,y_train_sm.values)\n",
    "print(\"Mean  f1 score of %0.2f\" % (result.mean()))"
   ]
  },
  {
   "cell_type": "code",
   "execution_count": null,
   "metadata": {},
   "outputs": [],
   "source": [
    "model_output_unseen_data(rf_model,X_Unseen_features,y_Unseen_labels[\"failure\"].values,0.8)"
   ]
  },
  {
   "cell_type": "code",
   "execution_count": null,
   "metadata": {},
   "outputs": [],
   "source": [
    "# X_sub_train,X_val,y_sub_train,y_val = train_test_split(X_train_sm,y_train_sm,test_size=0.2)\n",
    "# # X_sub_train.drop([\"failure\"],axis=1,inplace=True)\n",
    "# # X_val.drop([\"failure\"],axis=1,inplace=True)\n",
    "# pred_on_val,rf_model = train_model(X_sub_train,y_sub_train,X_val,y_val)\n",
    "\n",
    "# pred_on_val,df_output_org = post_process_output(pred_on_val,0.95)\n",
    "# print(classification_report(y_val,pred_on_val))\n",
    "# print(confusion_matrix(y_val,pred_on_val))\n",
    "\n",
    "# cv_results  = cross_val_score(rf_model,X_train_sm,y_train_sm\n",
    "#                 ,scoring=\"f1\"\n",
    "#                 ,cv=10\n",
    "#                )\n",
    "\n",
    "# pred_on_test = rf_model.predict_proba(X_test)\n",
    "# pred_on_test,df_output_org = post_process_output(pred_on_test,0.83)\n",
    "# print(classification_report(y_test,pred_on_test))\n",
    "# print(confusion_matrix(y_test,pred_on_test))"
   ]
  },
  {
   "cell_type": "markdown",
   "metadata": {},
   "source": [
    "##### With scaling"
   ]
  },
  {
   "cell_type": "code",
   "execution_count": null,
   "metadata": {},
   "outputs": [],
   "source": [
    "X_train_sm = scale_data(X_train_sm)\n",
    "# X_val = scale_data(X_val)"
   ]
  },
  {
   "cell_type": "code",
   "execution_count": null,
   "metadata": {},
   "outputs": [],
   "source": [
    "result,rf_model = cross_validation_output(X_train_sm,y_train_sm.values)\n",
    "print(\"Mean  f1 score of %0.2f\" % (result.mean()))"
   ]
  },
  {
   "cell_type": "code",
   "execution_count": null,
   "metadata": {},
   "outputs": [],
   "source": [
    "X_Unseen_features = scale_data(X_Unseen_features)"
   ]
  },
  {
   "cell_type": "code",
   "execution_count": null,
   "metadata": {},
   "outputs": [],
   "source": [
    "model_output_unseen_data(rf_model,X_Unseen_features,y_Unseen_labels[\"failure\"].values,0.95)"
   ]
  },
  {
   "cell_type": "code",
   "execution_count": null,
   "metadata": {},
   "outputs": [],
   "source": []
  }
 ],
 "metadata": {
  "kernelspec": {
   "display_name": "Python 3 (ipykernel)",
   "language": "python",
   "name": "python3"
  },
  "language_info": {
   "codemirror_mode": {
    "name": "ipython",
    "version": 3
   },
   "file_extension": ".py",
   "mimetype": "text/x-python",
   "name": "python",
   "nbconvert_exporter": "python",
   "pygments_lexer": "ipython3",
   "version": "3.9.12"
  }
 },
 "nbformat": 4,
 "nbformat_minor": 4
}
